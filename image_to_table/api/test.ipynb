{
 "cells": [
  {
   "cell_type": "code",
   "execution_count": 1,
   "metadata": {},
   "outputs": [
    {
     "ename": "NameError",
     "evalue": "name '__file__' is not defined",
     "output_type": "error",
     "traceback": [
      "\u001b[0;31m---------------------------------------------------------------------------\u001b[0m",
      "\u001b[0;31mNameError\u001b[0m                                 Traceback (most recent call last)",
      "Cell \u001b[0;32mIn[1], line 12\u001b[0m\n\u001b[1;32m      9\u001b[0m \u001b[38;5;28;01mfrom\u001b[39;00m \u001b[38;5;21;01mscipy\u001b[39;00m\u001b[38;5;21;01m.\u001b[39;00m\u001b[38;5;21;01moptimize\u001b[39;00m \u001b[38;5;28;01mimport\u001b[39;00m curve_fit\n\u001b[1;32m     11\u001b[0m \u001b[38;5;66;03m# 指定目标文件夹路径\u001b[39;00m\n\u001b[0;32m---> 12\u001b[0m folder_path \u001b[38;5;241m=\u001b[39m os\u001b[38;5;241m.\u001b[39mpath\u001b[38;5;241m.\u001b[39mjoin(os\u001b[38;5;241m.\u001b[39mpath\u001b[38;5;241m.\u001b[39mdirname(\u001b[38;5;18;43m__file__\u001b[39;49m),\u001b[38;5;124m'\u001b[39m\u001b[38;5;124minfo\u001b[39m\u001b[38;5;124m'\u001b[39m)\n\u001b[1;32m     14\u001b[0m \u001b[38;5;66;03m# 获取文件夹下的所有文件和文件夹名称\u001b[39;00m\n\u001b[1;32m     15\u001b[0m files_and_folders \u001b[38;5;241m=\u001b[39m os\u001b[38;5;241m.\u001b[39mlistdir(folder_path)\n",
      "\u001b[0;31mNameError\u001b[0m: name '__file__' is not defined"
     ]
    }
   ],
   "source": [
    "import json\n",
    "import os\n",
    "from paddleocr import PaddleOCR, draw_ocr\n",
    "from PIL import Image\n",
    "import numpy as np\n",
    "import csv\n",
    "import editdistance\n",
    "import copy\n",
    "from scipy.optimize import curve_fit\n",
    "\n",
    "# 指定目标文件夹路径\n",
    "folder_path = os.path.join(os.path.dirname(__file__),'info')\n",
    "\n",
    "# 获取文件夹下的所有文件和文件夹名称\n",
    "files_and_folders = os.listdir(folder_path)\n",
    "\n",
    "# 过滤出所有文件的名称\n",
    "files = [f for f in files_and_folders if os.path.isfile(os.path.join(folder_path, f))]\n",
    "\n",
    "# 打印所有文件的名称\n",
    "for file in files:\n",
    "    print(file)"
   ]
  }
 ],
 "metadata": {
  "kernelspec": {
   "display_name": "paddle_env",
   "language": "python",
   "name": "python3"
  },
  "language_info": {
   "codemirror_mode": {
    "name": "ipython",
    "version": 3
   },
   "file_extension": ".py",
   "mimetype": "text/x-python",
   "name": "python",
   "nbconvert_exporter": "python",
   "pygments_lexer": "ipython3",
   "version": "3.8.13"
  }
 },
 "nbformat": 4,
 "nbformat_minor": 2
}
